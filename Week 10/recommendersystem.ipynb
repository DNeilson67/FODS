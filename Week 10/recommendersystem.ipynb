{
 "cells": [
  {
   "cell_type": "markdown",
   "metadata": {
    "id": "8ZonY_oYNjt_"
   },
   "source": [
    "<b>USER BASED RECOMMENDER SYSTEM"
   ]
  },
  {
   "cell_type": "markdown",
   "metadata": {
    "id": "k5Xr9Dv4NjuF"
   },
   "source": [
    "Steps in a user-based recommendation system:\n",
    "\n",
    "1. Select a user with the movies the user has watched\n",
    "2. Based on his rating to movies, find the top x neighbours\n",
    "3. Get the watched movie record of the user for each neighbour.\n",
    "4. Calculate a similarity score using some formula\n",
    "5. Recommend the items with the highest score"
   ]
  },
  {
   "cell_type": "code",
   "execution_count": 42,
   "metadata": {
    "id": "m32700SVNjuL"
   },
   "outputs": [],
   "source": [
    "import pandas as pd\n",
    "from math import sqrt\n",
    "import numpy as np\n"
   ]
  },
  {
   "cell_type": "code",
   "execution_count": 43,
   "metadata": {
    "colab": {
     "base_uri": "https://localhost:8080/"
    },
    "id": "maXzLmxGNjuO",
    "outputId": "56e5ab06-19e8-44e0-c078-1b43cd5d094e"
   },
   "outputs": [
    {
     "name": "stdout",
     "output_type": "stream",
     "text": [
      "<class 'pandas.core.frame.DataFrame'>\n",
      "RangeIndex: 9742 entries, 0 to 9741\n",
      "Data columns (total 3 columns):\n",
      " #   Column   Non-Null Count  Dtype \n",
      "---  ------   --------------  ----- \n",
      " 0   movieId  9742 non-null   int64 \n",
      " 1   title    9742 non-null   object\n",
      " 2   genres   9742 non-null   object\n",
      "dtypes: int64(1), object(2)\n",
      "memory usage: 228.5+ KB\n",
      "None\n",
      "<class 'pandas.core.frame.DataFrame'>\n",
      "RangeIndex: 100836 entries, 0 to 100835\n",
      "Data columns (total 4 columns):\n",
      " #   Column     Non-Null Count   Dtype  \n",
      "---  ------     --------------   -----  \n",
      " 0   userId     100836 non-null  int64  \n",
      " 1   movieId    100836 non-null  int64  \n",
      " 2   rating     100836 non-null  float64\n",
      " 3   timestamp  100836 non-null  int64  \n",
      "dtypes: float64(1), int64(3)\n",
      "memory usage: 3.1 MB\n",
      "None\n"
     ]
    }
   ],
   "source": [
    "movies_df = pd.read_csv('movies.csv')\n",
    "ratings_df = pd.read_csv('ratings.csv')\n",
    "print(movies_df.info())\n",
    "print(ratings_df.info())\n",
    "\n"
   ]
  },
  {
   "cell_type": "code",
   "execution_count": 44,
   "metadata": {
    "colab": {
     "base_uri": "https://localhost:8080/"
    },
    "id": "gW_QBJHLNjuP",
    "outputId": "8a2fb439-31cc-4c8d-d511-3cab2f9cdf02"
   },
   "outputs": [
    {
     "name": "stdout",
     "output_type": "stream",
     "text": [
      "                          title  rating\n",
      "0                  Flint (2017)     3.0\n",
      "1              Toy Story (1995)     1.0\n",
      "2                Jumanji (1995)     1.0\n",
      "3  No Game No Life: Zero (2017)     5.0\n",
      "4       Grumpier Old Men (1995)     4.5\n"
     ]
    }
   ],
   "source": [
    "userInput = [{'title':'Flint (2017)', 'rating':3},\n",
    "             {'title':'Toy Story (1995)', 'rating':1},\n",
    "             {'title':'Jumanji (1995)', 'rating':1},\n",
    "             {'title':'No Game No Life: Zero (2017)', 'rating':5},\n",
    "             {'title':'Grumpier Old Men (1995)', 'rating':4.5}]\n",
    "inputMovies = pd.DataFrame(userInput)\n",
    "print(inputMovies)"
   ]
  },
  {
   "cell_type": "code",
   "execution_count": 45,
   "metadata": {
    "colab": {
     "base_uri": "https://localhost:8080/"
    },
    "id": "SFApFIiDNjuR",
    "outputId": "a8fde0a4-b7db-434a-e665-c89ee59d5fa9"
   },
   "outputs": [
    {
     "data": {
      "text/html": [
       "<div>\n",
       "<style scoped>\n",
       "    .dataframe tbody tr th:only-of-type {\n",
       "        vertical-align: middle;\n",
       "    }\n",
       "\n",
       "    .dataframe tbody tr th {\n",
       "        vertical-align: top;\n",
       "    }\n",
       "\n",
       "    .dataframe thead th {\n",
       "        text-align: right;\n",
       "    }\n",
       "</style>\n",
       "<table border=\"1\" class=\"dataframe\">\n",
       "  <thead>\n",
       "    <tr style=\"text-align: right;\">\n",
       "      <th></th>\n",
       "      <th>movieId</th>\n",
       "      <th>title</th>\n",
       "      <th>rating</th>\n",
       "    </tr>\n",
       "  </thead>\n",
       "  <tbody>\n",
       "    <tr>\n",
       "      <th>0</th>\n",
       "      <td>1</td>\n",
       "      <td>Toy Story (1995)</td>\n",
       "      <td>1.0</td>\n",
       "    </tr>\n",
       "    <tr>\n",
       "      <th>1</th>\n",
       "      <td>2</td>\n",
       "      <td>Jumanji (1995)</td>\n",
       "      <td>1.0</td>\n",
       "    </tr>\n",
       "    <tr>\n",
       "      <th>2</th>\n",
       "      <td>3</td>\n",
       "      <td>Grumpier Old Men (1995)</td>\n",
       "      <td>4.5</td>\n",
       "    </tr>\n",
       "    <tr>\n",
       "      <th>3</th>\n",
       "      <td>193583</td>\n",
       "      <td>No Game No Life: Zero (2017)</td>\n",
       "      <td>5.0</td>\n",
       "    </tr>\n",
       "    <tr>\n",
       "      <th>4</th>\n",
       "      <td>193585</td>\n",
       "      <td>Flint (2017)</td>\n",
       "      <td>3.0</td>\n",
       "    </tr>\n",
       "  </tbody>\n",
       "</table>\n",
       "</div>"
      ],
      "text/plain": [
       "   movieId                         title  rating\n",
       "0        1              Toy Story (1995)     1.0\n",
       "1        2                Jumanji (1995)     1.0\n",
       "2        3       Grumpier Old Men (1995)     4.5\n",
       "3   193583  No Game No Life: Zero (2017)     5.0\n",
       "4   193585                  Flint (2017)     3.0"
      ]
     },
     "execution_count": 45,
     "metadata": {},
     "output_type": "execute_result"
    }
   ],
   "source": [
    "inputId = movies_df[movies_df['title'].isin(inputMovies['title'].tolist())]\n",
    "inputMovies = pd.merge(inputId, inputMovies)\n",
    "# inputMovies = inputMovies.drop('year', 1) #we don't really need this at the moment\n",
    "inputMovies = inputMovies[['movieId','title','rating']]\n",
    "inputMovies"
   ]
  },
  {
   "cell_type": "markdown",
   "metadata": {
    "id": "r_23sJ1vNjuS"
   },
   "source": [
    "#### Now with the `movieId` in our input, we can now get the subset of users that have watched and reviewed the movies in our input. Find the similar user taste."
   ]
  },
  {
   "cell_type": "code",
   "execution_count": 46,
   "metadata": {
    "colab": {
     "base_uri": "https://localhost:8080/"
    },
    "id": "BmGI-DmrNjuS",
    "outputId": "2a8aa4c0-6e33-4ca5-cbc4-62077f98bd49"
   },
   "outputs": [
    {
     "name": "stdout",
     "output_type": "stream",
     "text": [
      "         userId  rating  timestamp\n",
      "movieId                           \n",
      "1           215     215        215\n",
      "2           110     110        110\n",
      "3            52      52         52\n",
      "193583        1       1          1\n",
      "193585        1       1          1\n"
     ]
    }
   ],
   "source": [
    "userSubset = ratings_df[ratings_df['movieId'].isin(inputMovies['movieId'].tolist())]\n",
    "print(userSubset.groupby('movieId').count())"
   ]
  },
  {
   "cell_type": "code",
   "execution_count": 47,
   "metadata": {
    "colab": {
     "base_uri": "https://localhost:8080/"
    },
    "id": "-1566eb1NjuU",
    "outputId": "69a550bb-a743-496c-8bab-a90feb023b06"
   },
   "outputs": [
    {
     "name": "stdout",
     "output_type": "stream",
     "text": [
      "[((19,),       userId  movieId  rating  timestamp\n",
      "2274      19        1     4.0  965705637\n",
      "2275      19        2     3.0  965704331\n",
      "2276      19        3     3.0  965707636), ((68,),        userId  movieId  rating   timestamp\n",
      "10360      68        1     2.5  1158531426\n",
      "10361      68        2     2.5  1158532776\n",
      "10362      68        3     2.0  1158533415), ((91,),        userId  movieId  rating   timestamp\n",
      "14121      91        1     4.0  1112713037\n",
      "14122      91        2     3.0  1112713392\n",
      "14123      91        3     3.0  1112712323), ((169,),        userId  movieId  rating   timestamp\n",
      "24321     169        1     4.5  1059427918\n",
      "24322     169        2     4.0  1078284713\n",
      "24323     169        3     5.0  1078284750), ((217,),        userId  movieId  rating  timestamp\n",
      "30885     217        1     4.0  955942540\n",
      "30886     217        2     2.0  955942327\n",
      "30887     217        3     1.0  955944713)]\n"
     ]
    }
   ],
   "source": [
    "#Groupby creates several sub dataframes where they all have the same value in the column specified as the parameter\n",
    "userSubsetGroup = userSubset.groupby(['userId'])\n",
    "\n",
    "def take_5_elem(x):\n",
    "    # print (len(x[1]))\n",
    "    return len(x[1])\n",
    "    \n",
    "\n",
    "#Sorting it so users with movie most in common with the input will have priority\n",
    "userSubsetGroup = sorted(userSubsetGroup, key=take_5_elem, reverse=True)\n",
    "\n",
    "userSubsetGroup = userSubsetGroup[0:100]\n",
    "print(userSubsetGroup[0:5])\n"
   ]
  },
  {
   "cell_type": "code",
   "execution_count": 48,
   "metadata": {
    "id": "h_KYBeMtNjuV"
   },
   "outputs": [],
   "source": [
    "#Store the Pearson Correlation in a dictionary, where the key is the user Id and the value is the coefficient\n",
    "pearsonCorrelationDict = {}\n",
    "\n",
    "#For every user group in our subset\n",
    "for name, group in userSubsetGroup:\n",
    "\n",
    "    #Let's start by sorting the input and current user group so the values aren't mixed up later on\n",
    "    group = group.sort_values(by='movieId')\n",
    "    inputMovies = inputMovies.sort_values(by='movieId')\n",
    "\n",
    "    #Get the N for the formula\n",
    "    nRatings = len(group)\n",
    "\n",
    "    #Get the review scores for the movies that they both have in common\n",
    "    temp_df = inputMovies[inputMovies['movieId'].isin(group['movieId'].tolist())]\n",
    "\n",
    "    #And then store them in a temporary buffer variable in a list format to facilitate future calculations\n",
    "    tempRatingList = temp_df['rating'].tolist()\n",
    "   \n",
    "    #Let's also put the current user group reviews in a list format\n",
    "    tempGroupList = group['rating'].tolist()\n",
    "   \n",
    "    \n",
    "    #Now let's calculate the pearson correlation between two users, so called, x and y manually (check the formula from week 7 slide)\n",
    "    Sxx = sum([i**2 for i in tempRatingList]) - pow(sum(tempRatingList),2)/float(nRatings)\n",
    "    Syy = sum([i**2 for i in tempGroupList]) - pow(sum(tempGroupList),2)/float(nRatings)\n",
    "    Sxy = sum( i*j for i, j in zip(tempRatingList, tempGroupList)) - sum(tempRatingList)*sum(tempGroupList)/float(nRatings)\n",
    "\n",
    "    #If the denominator is different than zero, then divide, else, 0 correlation.\n",
    "    if Sxx != 0 and Syy != 0:\n",
    "        pearsonCorrelationDict[name] = Sxy/sqrt(Sxx*Syy)\n",
    "    else:\n",
    "        pearsonCorrelationDict[name] = 0\n",
    "    \n"
   ]
  },
  {
   "cell_type": "code",
   "execution_count": 49,
   "metadata": {
    "colab": {
     "base_uri": "https://localhost:8080/"
    },
    "id": "Ozp4EqHsNjuX",
    "outputId": "890b43f3-99f9-4092-a6f1-bc49ad4218d7"
   },
   "outputs": [
    {
     "name": "stdout",
     "output_type": "stream",
     "text": [
      "   similarityIndex  userId\n",
      "0        -0.500000   (19,)\n",
      "1        -1.000000   (68,)\n",
      "2        -0.500000   (91,)\n",
      "3         0.866025  (169,)\n",
      "4        -0.755929  (217,)\n"
     ]
    }
   ],
   "source": [
    "pearsonDF = pd.DataFrame.from_dict(pearsonCorrelationDict, orient='index')\n",
    "pearsonDF.columns = ['similarityIndex']\n",
    "pearsonDF['userId'] = pearsonDF.index\n",
    "pearsonDF.index = range(len(pearsonDF))\n",
    "print(pearsonDF.head())\n"
   ]
  },
  {
   "cell_type": "code",
   "execution_count": 50,
   "metadata": {
    "colab": {
     "base_uri": "https://localhost:8080/"
    },
    "id": "R89syb-KNjuY",
    "outputId": "2353f489-89af-4f8f-d03b-6b762a6ae355"
   },
   "outputs": [
    {
     "name": "stdout",
     "output_type": "stream",
     "text": [
      "    similarityIndex  userId\n",
      "82         1.000000     555\n",
      "19         1.000000       6\n",
      "77         1.000000     501\n",
      "3          0.866025     169\n",
      "5          0.500000     226\n"
     ]
    }
   ],
   "source": [
    "topUsers=pearsonDF.sort_values(by='similarityIndex', ascending=False)[0:50]\n",
    "topUsers[\"userId\"] = topUsers[\"userId\"].apply(lambda x: x[0])\n",
    "print(topUsers.head())"
   ]
  },
  {
   "cell_type": "code",
   "execution_count": 51,
   "metadata": {
    "colab": {
     "base_uri": "https://localhost:8080/"
    },
    "id": "Y5BLrcz7NjuZ",
    "outputId": "5bd49ea3-3d4a-4780-e3ca-566ba240d2d4"
   },
   "outputs": [
    {
     "name": "stdout",
     "output_type": "stream",
     "text": [
      "    similarityIndex  userId  movieId  rating  timestamp\n",
      "0               1.0     555        1     4.0  978746159\n",
      "1               1.0     555        3     5.0  978747454\n",
      "2               1.0     555       19     3.0  980123949\n",
      "3               1.0     555       21     4.0  978746440\n",
      "4               1.0     555       24     5.0  978841879\n",
      "..              ...     ...      ...     ...        ...\n",
      "95              1.0     555      737     1.0  978842115\n",
      "96              1.0     555      743     1.0  978747598\n",
      "97              1.0     555      748     2.0  980125071\n",
      "98              1.0     555      778     5.0  978747779\n",
      "99              1.0     555      780     4.0  978841695\n",
      "\n",
      "[100 rows x 5 columns]\n"
     ]
    }
   ],
   "source": [
    "topUsersRating=topUsers.merge(ratings_df, left_on='userId', right_on='userId', how='inner')\n",
    "print(topUsersRating.head(100))\n"
   ]
  },
  {
   "cell_type": "code",
   "execution_count": 52,
   "metadata": {
    "colab": {
     "base_uri": "https://localhost:8080/"
    },
    "id": "xHTIZNdwNjuZ",
    "outputId": "cbf5e0c0-9f17-436f-9ce9-d3e9e0f542ac"
   },
   "outputs": [
    {
     "name": "stdout",
     "output_type": "stream",
     "text": [
      "   similarityIndex  userId  movieId  rating  timestamp  weightedRating\n",
      "0              1.0     555        1     4.0  978746159             4.0\n",
      "1              1.0     555        3     5.0  978747454             5.0\n",
      "2              1.0     555       19     3.0  980123949             3.0\n",
      "3              1.0     555       21     4.0  978746440             4.0\n",
      "4              1.0     555       24     5.0  978841879             5.0\n"
     ]
    }
   ],
   "source": [
    "#Multiplies the similarity by the user’s ratings\n",
    "topUsersRating['weightedRating'] = topUsersRating['similarityIndex']*topUsersRating['rating']\n",
    "print(topUsersRating.head())"
   ]
  },
  {
   "cell_type": "code",
   "execution_count": 53,
   "metadata": {
    "colab": {
     "base_uri": "https://localhost:8080/"
    },
    "id": "nsQ624GXNjua",
    "outputId": "27f6df7a-0a87-45a6-fc5d-66355104d7c1"
   },
   "outputs": [
    {
     "name": "stdout",
     "output_type": "stream",
     "text": [
      "         sum_similarityIndex  sum_weightedRating\n",
      "movieId                                         \n",
      "1                   3.497042           14.334845\n",
      "2                   4.497042           14.763273\n",
      "3                   5.497042           25.394996\n",
      "4                   1.000000            3.000000\n",
      "5                   3.693352           13.984781\n"
     ]
    }
   ],
   "source": [
    "#Applies a sum to the topUsers after grouping it up by movieId\n",
    "tempTopUsersRating = topUsersRating.groupby('movieId').sum()[['similarityIndex','weightedRating']]\n",
    "tempTopUsersRating.columns = ['sum_similarityIndex','sum_weightedRating']\n",
    "print(tempTopUsersRating.head())"
   ]
  },
  {
   "cell_type": "code",
   "execution_count": 54,
   "metadata": {
    "colab": {
     "base_uri": "https://localhost:8080/"
    },
    "id": "yFLw-nzNNjua",
    "outputId": "cfff0281-824b-4cfe-be3b-be8c731b300c"
   },
   "outputs": [
    {
     "name": "stdout",
     "output_type": "stream",
     "text": [
      "         weighted average recommendation score  movieId\n",
      "movieId                                                \n",
      "1                                     4.099134        1\n",
      "2                                     3.282885        2\n",
      "3                                     4.619756        3\n",
      "4                                     3.000000        4\n",
      "5                                     3.786474        5\n",
      "6                                     3.400000        6\n",
      "7                                     3.980099        7\n",
      "8                                     3.000000        8\n",
      "9                                          NaN        9\n",
      "10                                    3.399711       10\n"
     ]
    }
   ],
   "source": [
    "#Creates an empty dataframe\n",
    "recommendation_df = pd.DataFrame()\n",
    "\n",
    "#Now we take the weighted average\n",
    "recommendation_df['weighted average recommendation score'] = tempTopUsersRating['sum_weightedRating']/tempTopUsersRating['sum_similarityIndex']\n",
    "recommendation_df['movieId'] = tempTopUsersRating.index\n",
    "print(recommendation_df.head(10))"
   ]
  },
  {
   "cell_type": "code",
   "execution_count": 55,
   "metadata": {
    "colab": {
     "base_uri": "https://localhost:8080/"
    },
    "id": "A1tNpC07Njuc",
    "outputId": "ba39731b-81a8-4fec-e381-c813cd0cbf5b"
   },
   "outputs": [
    {
     "name": "stdout",
     "output_type": "stream",
     "text": [
      "         weighted average recommendation score  movieId\n",
      "movieId                                                \n",
      "1079                                       5.0     1079\n",
      "6370                                       5.0     6370\n",
      "6442                                       5.0     6442\n",
      "3678                                       5.0     3678\n",
      "3673                                       5.0     3673\n",
      "...                                        ...      ...\n",
      "182639                                     NaN   182639\n",
      "182823                                     NaN   182823\n",
      "184471                                     NaN   184471\n",
      "187593                                     NaN   187593\n",
      "188301                                     NaN   188301\n",
      "\n",
      "[5639 rows x 2 columns]\n"
     ]
    }
   ],
   "source": [
    "recommendation_df = recommendation_df.sort_values(by='weighted average recommendation score', ascending=False)\n",
    "print(recommendation_df)\n"
   ]
  },
  {
   "cell_type": "code",
   "execution_count": 56,
   "metadata": {
    "colab": {
     "base_uri": "https://localhost:8080/"
    },
    "id": "5liD4u2aNjud",
    "outputId": "916d4222-93aa-4812-da3b-ebcc92e955af"
   },
   "outputs": [
    {
     "name": "stdout",
     "output_type": "stream",
     "text": [
      "      movieId                                      title  \\\n",
      "3           4                   Waiting to Exhale (1995)   \n",
      "4           5         Father of the Bride Part II (1995)   \n",
      "5           6                                Heat (1995)   \n",
      "6           7                             Sabrina (1995)   \n",
      "7           8                        Tom and Huck (1995)   \n",
      "...       ...                                        ...   \n",
      "9692   184471                         Tomb Raider (2018)   \n",
      "9695   184791  Fred Armisen: Standup for Drummers (2018)   \n",
      "9709   187593                          Deadpool 2 (2018)   \n",
      "9710   187595             Solo: A Star Wars Story (2018)   \n",
      "9713   188301                Ant-Man and the Wasp (2018)   \n",
      "\n",
      "                                      genres  \n",
      "3                       Comedy|Drama|Romance  \n",
      "4                                     Comedy  \n",
      "5                      Action|Crime|Thriller  \n",
      "6                             Comedy|Romance  \n",
      "7                         Adventure|Children  \n",
      "...                                      ...  \n",
      "9692                Action|Adventure|Fantasy  \n",
      "9695                                  Comedy  \n",
      "9709                    Action|Comedy|Sci-Fi  \n",
      "9710        Action|Adventure|Children|Sci-Fi  \n",
      "9713  Action|Adventure|Comedy|Fantasy|Sci-Fi  \n",
      "\n",
      "[5636 rows x 3 columns]\n"
     ]
    }
   ],
   "source": [
    "recommended_movie=movies_df.loc[movies_df['movieId'].isin(recommendation_df['movieId'])]\n",
    "\n",
    "#we don't want to recommend the same movie\n",
    "recommended_movie=recommended_movie.loc[~recommended_movie.movieId.isin(userSubset['movieId'])]\n",
    "\n",
    "print(recommended_movie)"
   ]
  },
  {
   "cell_type": "code",
   "execution_count": null,
   "metadata": {
    "id": "1z7iFHhVNjud"
   },
   "outputs": [],
   "source": []
  }
 ],
 "metadata": {
  "colab": {
   "provenance": []
  },
  "kernelspec": {
   "display_name": "Python 3 (ipykernel)",
   "language": "python",
   "name": "python3"
  },
  "language_info": {
   "codemirror_mode": {
    "name": "ipython",
    "version": 3
   },
   "file_extension": ".py",
   "mimetype": "text/x-python",
   "name": "python",
   "nbconvert_exporter": "python",
   "pygments_lexer": "ipython3",
   "version": "3.11.2"
  }
 },
 "nbformat": 4,
 "nbformat_minor": 4
}
