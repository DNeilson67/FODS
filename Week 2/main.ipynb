{
 "cells": [
  {
   "cell_type": "code",
   "execution_count": null,
   "metadata": {},
   "outputs": [],
   "source": [
    "from bs4 import BeautifulSoup\n",
    "import requests\n",
    "import re\n",
    "import pandas as pd\n",
    "import substring"
   ]
  },
  {
   "cell_type": "code",
   "execution_count": null,
   "metadata": {},
   "outputs": [],
   "source": [
    "url = \"https://www.imdb.com/title/tt10919420/episodes?ref_=tt_eps_sm\"\n",
    "url2 = \"https://www.netflix.com/id-en/title/81040344\"\n",
    "headers = {'User-Agent': 'Mozilla/5.0 (Macintosh; Intel Mac OS X 10_11_5) AppleWebKit/537.36 (KHTML, like Gecko) Chrome/50.0.2661.102 Safari/537.36'}\n",
    "response = requests.get(url, headers=headers)\n",
    "response2 = requests.get(url2, headers=headers)\n",
    "soup = BeautifulSoup(response.content, 'html.parser')\n",
    "soup2 = BeautifulSoup(response2.content, 'html.parser')"
   ]
  },
  {
   "cell_type": "code",
   "execution_count": null,
   "metadata": {},
   "outputs": [],
   "source": [
    "#Selecting movies in URL 1\n",
    "movies = soup.select('a.sc-1318654d-8')\n",
    "for i in movies:\n",
    "    print(i)\n",
    "\n",
    "#Selecting movies in URL 2\n",
    "movies2 = soup2.select(\"h3.episode-title\")\n",
    "for i in movies2:\n",
    "    print(i)"
   ]
  },
  {
   "cell_type": "code",
   "execution_count": null,
   "metadata": {},
   "outputs": [],
   "source": [
    "# Full Title in URL 1\n",
    "print(\"-----IMDB Website-----\")\n",
    "title = [t.get_text() for t in movies]\n",
    "for i in title:\n",
    "    print(i)"
   ]
  },
  {
   "cell_type": "code",
   "execution_count": null,
   "metadata": {},
   "outputs": [],
   "source": [
    "# Full Title in URL 2\n",
    "print(\"-----Netfix Website-----\")\n",
    "title2 = [t.get_text() for t in movies2]\n",
    "for i in title2:\n",
    "    print(i)"
   ]
  },
  {
   "cell_type": "code",
   "execution_count": null,
   "metadata": {},
   "outputs": [],
   "source": [
    "#Season number in URL 1\n",
    "season = []\n",
    "for i in title:\n",
    "    string = \"\"\n",
    "    pos = i.find(\"S\")\n",
    "    while (True):\n",
    "        if (i[pos+1].isdigit()):\n",
    "            string += i[pos+1]\n",
    "            pos += 1\n",
    "        else:\n",
    "            season += [string]\n",
    "            break\n",
    "\n",
    "for i in season:\n",
    "    print(i)"
   ]
  },
  {
   "cell_type": "code",
   "execution_count": null,
   "metadata": {},
   "outputs": [],
   "source": [
    "#Season number in URL 2\n",
    "season2num = soup2.select('div.select-label')\n",
    "season2 = season2num[0].get_text()\n",
    "print(season2)"
   ]
  },
  {
   "cell_type": "code",
   "execution_count": null,
   "metadata": {},
   "outputs": [],
   "source": [
    "#Episode Number in URL 1\n",
    "episode = []\n",
    "\n",
    "for i in title:\n",
    "    string = \"\"\n",
    "    pos = i.find(\"E\")\n",
    "    while (True):\n",
    "        if (i[pos+1].isdigit()):\n",
    "            string += i[pos+1]\n",
    "            pos += 1\n",
    "        else:\n",
    "            episode += [string]\n",
    "            break\n",
    "    \n",
    "for i in episode:\n",
    "    print(i)"
   ]
  },
  {
   "cell_type": "code",
   "execution_count": null,
   "metadata": {},
   "outputs": [],
   "source": [
    "#Episode Number in URL 2\n",
    "episode2 = []\n",
    "\n",
    "for i in title2:\n",
    "    string2 = \"\"\n",
    "    pos = 0\n",
    "    while (i[pos] != \".\"):\n",
    "        string2 += i[pos]\n",
    "        pos += 1\n",
    "    episode2 += [string2]\n",
    "\n",
    "for i in episode2:\n",
    "    print(i)"
   ]
  },
  {
   "cell_type": "code",
   "execution_count": null,
   "metadata": {},
   "outputs": [],
   "source": [
    "#The title in URL 1\n",
    "filmTitle = []\n",
    "\n",
    "filmTitle = [i[8:len(i)]for i in title]\n",
    "for i in filmTitle:\n",
    "    print(i)"
   ]
  },
  {
   "cell_type": "code",
   "execution_count": null,
   "metadata": {},
   "outputs": [],
   "source": [
    "#The title in URL 2\n",
    "filmTitle2 = []\n",
    "\n",
    "filmTitle2 = [i[3:len(i)]for i in title2]\n",
    "for i in filmTitle2:\n",
    "    print(i)"
   ]
  },
  {
   "cell_type": "code",
   "execution_count": null,
   "metadata": {},
   "outputs": [],
   "source": [
    "# Links\n",
    "links = []\n",
    "for i in movies:\n",
    "    links.append(i.attrs.get('href'))\n",
    "\n",
    "for i in links:\n",
    "    print(i)"
   ]
  },
  {
   "cell_type": "code",
   "execution_count": null,
   "metadata": {},
   "outputs": [],
   "source": [
    "#Selecting rating in URL 1\n",
    "rating = soup.select('span.ipc-rating-star--imdb')\n",
    "ratingTitle = [t.get_text()[0:3] for t in rating]\n",
    "\n",
    "for i in ratingTitle:\n",
    "    print(i)"
   ]
  },
  {
   "cell_type": "code",
   "execution_count": null,
   "metadata": {},
   "outputs": [],
   "source": [
    "#Selecting vote count in URL 1\n",
    "voteCount = soup.select('span.ipc-rating-star--voteCount')\n",
    "voteCountTitle = [t.get_text().replace(\"(\", \"\").replace(\")\",\"\") for t in voteCount]\n",
    "for i in voteCountTitle:\n",
    "    print(i)"
   ]
  },
  {
   "cell_type": "code",
   "execution_count": null,
   "metadata": {},
   "outputs": [],
   "source": [
    "#Selecting AirDate in URL 1\n",
    "airDate = soup.select('span.sc-1318654d-10')\n",
    "airDateTitle = [t.get_text()for t in airDate]\n",
    "for i in airDateTitle:\n",
    "    print(i)"
   ]
  },
  {
   "cell_type": "code",
   "execution_count": null,
   "metadata": {},
   "outputs": [],
   "source": [
    "#Released Year in URL 2\n",
    "year2Released = soup2.select('span.item-year')\n",
    "year2ReleasedTitle = [t.get_text() for t in year2Released]\n",
    "print(year2ReleasedTitle)"
   ]
  },
  {
   "cell_type": "code",
   "execution_count": null,
   "metadata": {},
   "outputs": [],
   "source": [
    "#Selecting Description in URL 1\n",
    "desc = soup.select('div.sc-1318654d-11')\n",
    "descTitle = [t.get_text() for t in desc]\n",
    "for i in descTitle:\n",
    "    print(i)"
   ]
  },
  {
   "cell_type": "code",
   "execution_count": null,
   "metadata": {},
   "outputs": [],
   "source": [
    "#Selecting Description in URL 2:\n",
    "desc2 = soup2.select('p.epsiode-synopsis')\n",
    "desc2Title = [t.get_text() for t in desc2]\n",
    "for i in desc2Title:\n",
    "    print(i)"
   ]
  },
  {
   "cell_type": "code",
   "execution_count": null,
   "metadata": {},
   "outputs": [],
   "source": [
    "#Selecting duration in URL 2\n",
    "duration2= soup2.select('span.episode-runtime')\n",
    "duration2Title = [t.get_text() for t in duration2]\n",
    "print(duration2Title)"
   ]
  },
  {
   "cell_type": "code",
   "execution_count": null,
   "metadata": {},
   "outputs": [],
   "source": [
    "listMovies = []\n",
    "for i in range (len(movies)):\n",
    "    data = {\"season\":season[i],\n",
    "        \"episode_number\":episode[i],\n",
    "        \"title\": filmTitle[i],\n",
    "        \"airdate\":airDateTitle[i],\n",
    "        \"rating\":ratingTitle[i],\n",
    "        \"total_votes\":voteCountTitle[i],\n",
    "        \"desc\":descTitle[i]}\n",
    "    listMovies.append(data)"
   ]
  },
  {
   "cell_type": "code",
   "execution_count": null,
   "metadata": {},
   "outputs": [],
   "source": [
    "listMovies2 = []\n",
    "for i in range (len(movies2)):\n",
    "    data = {\"season\":season2,\n",
    "        \"episode_number\":episode2[i],\n",
    "        \"title\": filmTitle2[i],\n",
    "        \"duration\": duration2Title[i],\n",
    "        \"yearReleased\":year2ReleasedTitle[0],\n",
    "        \"desc\":desc2Title[i]\n",
    "        }\n",
    "    listMovies2.append(data)\n",
    "print(listMovies2)"
   ]
  },
  {
   "cell_type": "code",
   "execution_count": null,
   "metadata": {},
   "outputs": [],
   "source": [
    "df = pd.DataFrame(listMovies, columns = ['season', 'episode_number', 'title', 'airdate', 'rating', 'total_votes', 'desc'])\n",
    "print (df.head())"
   ]
  },
  {
   "cell_type": "code",
   "execution_count": null,
   "metadata": {},
   "outputs": [],
   "source": [
    "df2 = pd.DataFrame(listMovies2, columns = ['season', 'episode_number', 'title','duration', 'yearReleased','desc'])\n",
    "print (df2.head())"
   ]
  },
  {
   "cell_type": "code",
   "execution_count": null,
   "metadata": {},
   "outputs": [],
   "source": [
    "df.to_csv('imdb.csv', index=False)\n",
    "pd.read_csv(\"imdb.csv\", index_col=0)"
   ]
  },
  {
   "cell_type": "code",
   "execution_count": null,
   "metadata": {},
   "outputs": [],
   "source": [
    "df2.to_csv('netflix.csv', index=False)\n",
    "pd.read_csv(\"netflix.csv\", index_col=0)"
   ]
  }
 ],
 "metadata": {
  "kernelspec": {
   "display_name": "Python 3",
   "language": "python",
   "name": "python3"
  },
  "language_info": {
   "codemirror_mode": {
    "name": "ipython",
    "version": 3
   },
   "file_extension": ".py",
   "mimetype": "text/x-python",
   "name": "python",
   "nbconvert_exporter": "python",
   "pygments_lexer": "ipython3",
   "version": "3.11.2"
  },
  "orig_nbformat": 4
 },
 "nbformat": 4,
 "nbformat_minor": 2
}
